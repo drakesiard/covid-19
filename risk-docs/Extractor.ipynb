{
 "cells": [
  {
   "cell_type": "code",
   "execution_count": null,
   "metadata": {},
   "outputs": [],
   "source": [
    "from IPython.display import display, HTML \n",
    "\n",
    "import html\n",
    "import difflib\n",
    "import os.path\n",
    "import pickle\n",
    "from googleapiclient.discovery import build\n",
    "from google_auth_oauthlib.flow import InstalledAppFlow\n",
    "from google.auth.transport.requests import Request"
   ]
  },
  {
   "cell_type": "code",
   "execution_count": null,
   "metadata": {},
   "outputs": [],
   "source": [
    "# If modifying these scopes, delete the file token.pickle.\n",
    "SCOPES = ['https://www.googleapis.com/auth/documents.readonly',\n",
    "          'https://www.googleapis.com/auth/drive.readonly']"
   ]
  },
  {
   "cell_type": "code",
   "execution_count": null,
   "metadata": {},
   "outputs": [],
   "source": [
    "creds = None\n",
    "# The file token.pickle stores the user's access and refresh tokens, and is\n",
    "# created automatically when the authorization flow completes for the first\n",
    "# time.\n",
    "if os.path.exists('token.pickle'):\n",
    "    with open('token.pickle', 'rb') as token:\n",
    "        creds = pickle.load(token)\n",
    "# If there are no (valid) credentials available, let the user log in.\n",
    "if not creds or not creds.valid:\n",
    "    if creds and creds.expired and creds.refresh_token:\n",
    "        creds.refresh(Request())\n",
    "    else:\n",
    "        flow = InstalledAppFlow.from_client_secrets_file(\n",
    "            'credentials.json', SCOPES)\n",
    "        creds = flow.run_local_server(port=6666)\n",
    "    # Save the credentials for the next run\n",
    "    with open('token.pickle', 'wb') as token:\n",
    "        pickle.dump(creds, token)\n",
    "\n",
    "doc_service = build('docs', 'v1', credentials=creds)\n",
    "drive_service = build('drive', 'v3', credentials=creds)\n",
    "\n",
    "documents = doc_service.documents()"
   ]
  },
  {
   "cell_type": "code",
   "execution_count": null,
   "metadata": {},
   "outputs": [],
   "source": [
    "q = \"\"\"\n",
    "mimeType='application/vnd.google-apps.folder'\n",
    "and name='Covid-19 risk assessments'\n",
    "\"\"\"\n",
    "folder = drive_service.files().list(q=q).execute()\n",
    "folder_id = folder['files'][0]['id']"
   ]
  },
  {
   "cell_type": "code",
   "execution_count": null,
   "metadata": {},
   "outputs": [],
   "source": [
    "q = '\"%s\" in parents' % folder_id\n",
    "children = drive_service.files().list(q=q).execute()\n",
    "\n",
    "if children.get('nextPageToken') or children.get('incompleteSearch'):\n",
    "    raise ValueError(\"I've lost some of the files!\")\n",
    "\n",
    "file_ids = {child['name']: child['id'] for child in children['files']}\n"
   ]
  },
  {
   "cell_type": "code",
   "execution_count": null,
   "metadata": {},
   "outputs": [],
   "source": [
    "files = {k: documents.get(documentId=v).execute() for k, v in file_ids.items()}"
   ]
  },
  {
   "cell_type": "code",
   "execution_count": null,
   "metadata": {},
   "outputs": [],
   "source": [
    "def read_paragraph_element(element):\n",
    "    \"\"\"Returns the text in the given ParagraphElement.\n",
    "\n",
    "        Args:\n",
    "            element: a ParagraphElement from a Google Doc.\n",
    "    \"\"\"\n",
    "    text_run = element.get('textRun')\n",
    "    if not text_run:\n",
    "        return ''\n",
    "    return text_run.get('content')\n",
    "\n",
    "\n",
    "def read_structural_elements(elements):\n",
    "    \"\"\"Recurses through a list of Structural Elements to read a document's text where text may be\n",
    "        in nested elements.\n",
    "\n",
    "        Args:\n",
    "            elements: a list of Structural Elements.\n",
    "    \"\"\"\n",
    "    text = ''\n",
    "    for value in elements:\n",
    "        if 'paragraph' in value:\n",
    "            elements = value.get('paragraph').get('elements')\n",
    "            for elem in elements:\n",
    "                text += read_paragraph_element(elem)\n",
    "        elif 'table' in value:\n",
    "            # The text in table cells are in nested Structural Elements and tables may be\n",
    "            # nested.\n",
    "            table = value.get('table')\n",
    "            for row in table.get('tableRows'):\n",
    "                cells = row.get('tableCells')\n",
    "                for cell in cells:\n",
    "                    text += read_structural_elements(cell.get('content'))\n",
    "        elif 'tableOfContents' in value:\n",
    "            # The text in the TOC is also in a Structural Element.\n",
    "            toc = value.get('tableOfContents')\n",
    "            text += read_structural_elements(toc.get('content'))\n",
    "    return html.escape(text, quote=False).split('\\n')"
   ]
  },
  {
   "cell_type": "code",
   "execution_count": null,
   "metadata": {},
   "outputs": [],
   "source": [
    "text = {k: read_structural_elements(v['body']['content']) for k, v in files.items()}\n",
    "for name, entries in text.items():\n",
    "    with open(name, 'w') as fd:\n",
    "        fd.writelines(x + os.linesep for x in entries)"
   ]
  },
  {
   "cell_type": "code",
   "execution_count": null,
   "metadata": {},
   "outputs": [],
   "source": [
    "all_entries = set()\n",
    "for name, entries in text.items():\n",
    "    all_entries.update([x for x in entries if name not in x])\n",
    "for name, entries in text.items():\n",
    "    missing = all_entries.difference(entries)\n",
    "    if missing:\n",
    "        print('%s is missing:' % name)\n",
    "        for x in missing:\n",
    "            print(x)\n",
    "        print()"
   ]
  },
  {
   "cell_type": "code",
   "execution_count": null,
   "metadata": {},
   "outputs": [],
   "source": [
    "differ = difflib.HtmlDiff(tabsize=4)\n",
    "diff = differ.make_table(text['Drake'], text['Chaundra'])\n",
    "display(HTML(diff))"
   ]
  },
  {
   "cell_type": "code",
   "execution_count": null,
   "metadata": {},
   "outputs": [],
   "source": []
  },
  {
   "cell_type": "code",
   "execution_count": null,
   "metadata": {},
   "outputs": [],
   "source": []
  }
 ],
 "metadata": {
  "kernelspec": {
   "display_name": "covid-19",
   "language": "python",
   "name": "covid-19"
  },
  "language_info": {
   "codemirror_mode": {
    "name": "ipython",
    "version": 3
   },
   "file_extension": ".py",
   "mimetype": "text/x-python",
   "name": "python",
   "nbconvert_exporter": "python",
   "pygments_lexer": "ipython3",
   "version": "3.7.5"
  }
 },
 "nbformat": 4,
 "nbformat_minor": 4
}
