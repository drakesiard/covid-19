{
 "cells": [
  {
   "cell_type": "code",
   "execution_count": 1,
   "metadata": {},
   "outputs": [],
   "source": [
    "from __future__ import print_function\n",
    "import pickle\n",
    "import os.path\n",
    "from googleapiclient.discovery import build\n",
    "from google_auth_oauthlib.flow import InstalledAppFlow\n",
    "from google.auth.transport.requests import Request"
   ]
  },
  {
   "cell_type": "code",
   "execution_count": 2,
   "metadata": {},
   "outputs": [],
   "source": [
    "# If modifying these scopes, delete the file token.pickle.\n",
    "SCOPES = ['https://www.googleapis.com/auth/documents.readonly',\n",
    "          'https://www.googleapis.com/auth/drive.readonly']"
   ]
  },
  {
   "cell_type": "code",
   "execution_count": 3,
   "metadata": {},
   "outputs": [],
   "source": [
    "creds = None\n",
    "# The file token.pickle stores the user's access and refresh tokens, and is\n",
    "# created automatically when the authorization flow completes for the first\n",
    "# time.\n",
    "if os.path.exists('token.pickle'):\n",
    "    with open('token.pickle', 'rb') as token:\n",
    "        creds = pickle.load(token)\n",
    "# If there are no (valid) credentials available, let the user log in.\n",
    "if not creds or not creds.valid:\n",
    "    if creds and creds.expired and creds.refresh_token:\n",
    "        creds.refresh(Request())\n",
    "    else:\n",
    "        flow = InstalledAppFlow.from_client_secrets_file(\n",
    "            'credentials.json', SCOPES)\n",
    "        creds = flow.run_local_server(port=6666)\n",
    "    # Save the credentials for the next run\n",
    "    with open('token.pickle', 'wb') as token:\n",
    "        pickle.dump(creds, token)\n",
    "\n",
    "doc_service = build('docs', 'v1', credentials=creds)\n",
    "drive_service = build('drive', 'v3', credentials=creds)\n",
    "\n",
    "documents = doc_service.documents()"
   ]
  },
  {
   "cell_type": "code",
   "execution_count": 5,
   "metadata": {},
   "outputs": [],
   "source": [
    "q = \"\"\"\n",
    "mimeType='application/vnd.google-apps.folder'\n",
    "and name='Covid-19 risk assessments'\n",
    "\"\"\"\n",
    "folder = drive_service.files().list(q=q).execute()\n",
    "folder_id = folder['files'][0]['id']"
   ]
  },
  {
   "cell_type": "code",
   "execution_count": 30,
   "metadata": {},
   "outputs": [],
   "source": [
    "q = '\"%s\" in parents' % folder_id\n",
    "children = drive_service.files().list(q=q).execute()\n",
    "\n",
    "if children.get('nextPageToken') or children.get('incompleteSearch'):\n",
    "    raise ValueError(\"I've lost some of the files!\")\n",
    "\n",
    "file_ids = {child['name']: child['id'] for child in children['files']}\n"
   ]
  },
  {
   "cell_type": "code",
   "execution_count": 49,
   "metadata": {},
   "outputs": [],
   "source": [
    "files = {k: documents.get(documentId=v).execute() for k, v in file_ids.items()}"
   ]
  },
  {
   "cell_type": "code",
   "execution_count": 50,
   "metadata": {},
   "outputs": [],
   "source": [
    "def read_paragraph_element(element):\n",
    "    \"\"\"Returns the text in the given ParagraphElement.\n",
    "\n",
    "        Args:\n",
    "            element: a ParagraphElement from a Google Doc.\n",
    "    \"\"\"\n",
    "    text_run = element.get('textRun')\n",
    "    if not text_run:\n",
    "        return ''\n",
    "    return text_run.get('content')\n",
    "\n",
    "\n",
    "def read_structural_elements(elements):\n",
    "    \"\"\"Recurses through a list of Structural Elements to read a document's text where text may be\n",
    "        in nested elements.\n",
    "\n",
    "        Args:\n",
    "            elements: a list of Structural Elements.\n",
    "    \"\"\"\n",
    "    text = ''\n",
    "    for value in elements:\n",
    "        if 'paragraph' in value:\n",
    "            elements = value.get('paragraph').get('elements')\n",
    "            for elem in elements:\n",
    "                text += read_paragraph_element(elem)\n",
    "        elif 'table' in value:\n",
    "            # The text in table cells are in nested Structural Elements and tables may be\n",
    "            # nested.\n",
    "            table = value.get('table')\n",
    "            for row in table.get('tableRows'):\n",
    "                cells = row.get('tableCells')\n",
    "                for cell in cells:\n",
    "                    text += read_strucutural_elements(cell.get('content'))\n",
    "        elif 'tableOfContents' in value:\n",
    "            # The text in the TOC is also in a Structural Element.\n",
    "            toc = value.get('tableOfContents')\n",
    "            text += read_strucutural_elements(toc.get('content'))\n",
    "    return text"
   ]
  },
  {
   "cell_type": "code",
   "execution_count": 53,
   "metadata": {},
   "outputs": [],
   "source": [
    "text = {k: read_structural_elements(v['body']['content']) for k, v in files.items()}"
   ]
  },
  {
   "cell_type": "code",
   "execution_count": 55,
   "metadata": {},
   "outputs": [
    {
     "data": {
      "text/plain": [
       "\"WIthin bubble, at home\\nWithin bubble, outside\\nTakeaway (within bubble, at home)\\nTakeaway (within bubble, outside in a public park)\\nPicnic, own food (without bubble, outside in a private garden)\\nPicnic, own food (without bubble, outside in a public park)\\nTakeaway (without bubble, outside in a private garden)\\nTakeaway (without bubble, outside in a public park)\\nUsing loo or walking through at non-bubble home, masked\\nUsing public loos\\nWalking day (within bubble, with car rental)\\nDrinking at a pub (within bubble, outside, masked staff, distanced tables)\\nDrinking at a pub (without bubble, outside, masked staff, distanced tables)\\nEating at a restaurant (without bubble, outside, masked staff, distanced tables)\\nEating at a restaurant (within bubble, inside, masked staff, distanced tables)\\nWorking in an office (masked when not at desk, appropriately socially distant, own food)\\nLarge (6+) park gathering/picnic, masked, appropriately socially distant, no food sharing, eating away from group\\nLarge (6+) park gathering/picnic, unmasked, appropriately socially distant, no food sharing\\nStaying in a self-catering flat\\nChildren at school\\nChaundra's Line - 22 Jul 2020\\nRoutine healthcare in a GP surgery (masked, socially distant, sanitised, walk through)\\nStaying overnight in a hotel, staff masked, appropriate hygiene\\nDrake's Line - 22 Jul 2020\\nHaving a masked cleaner in a bubble home\\nAny other large social gathering\\nWithout bubble, outside in a private garden, sharing food\\nWithout bubble visits (extended) in bubble home\\nDrinking at a pub or eating at a restaurant, all other categories\\nRoutine healthcare in a GP surgery (long wait, unmasked patients or staff, etc.)\\nEating or socialising Inside non-bubble home\\nUsing public transport, including international travel\\nSwimming (Indoors)\\nSwimming (Outdoors)\\nGym\\nHealthcare in a hospital environment\\nWork in hospital, GP surgery, any place where medical care is provided\\n\""
      ]
     },
     "execution_count": 55,
     "metadata": {},
     "output_type": "execute_result"
    }
   ],
   "source": [
    "text['Drake']"
   ]
  },
  {
   "cell_type": "code",
   "execution_count": null,
   "metadata": {},
   "outputs": [],
   "source": []
  }
 ],
 "metadata": {
  "kernelspec": {
   "display_name": "covid-19",
   "language": "python",
   "name": "covid-19"
  },
  "language_info": {
   "codemirror_mode": {
    "name": "ipython",
    "version": 3
   },
   "file_extension": ".py",
   "mimetype": "text/x-python",
   "name": "python",
   "nbconvert_exporter": "python",
   "pygments_lexer": "ipython3",
   "version": "3.7.5"
  }
 },
 "nbformat": 4,
 "nbformat_minor": 4
}
