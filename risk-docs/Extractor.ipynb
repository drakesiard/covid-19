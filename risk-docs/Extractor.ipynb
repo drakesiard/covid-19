{
 "cells": [
  {
   "cell_type": "code",
   "execution_count": 27,
   "metadata": {},
   "outputs": [],
   "source": [
    "from IPython.display import display, HTML \n",
    "\n",
    "import html\n",
    "import difflib\n",
    "import os.path\n",
    "import pickle\n",
    "from googleapiclient.discovery import build\n",
    "from google_auth_oauthlib.flow import InstalledAppFlow\n",
    "from google.auth.transport.requests import Request"
   ]
  },
  {
   "cell_type": "code",
   "execution_count": 28,
   "metadata": {},
   "outputs": [],
   "source": [
    "# If modifying these scopes, delete the file token.pickle.\n",
    "SCOPES = ['https://www.googleapis.com/auth/documents.readonly',\n",
    "          'https://www.googleapis.com/auth/drive.readonly']"
   ]
  },
  {
   "cell_type": "code",
   "execution_count": 29,
   "metadata": {},
   "outputs": [],
   "source": [
    "creds = None\n",
    "# The file token.pickle stores the user's access and refresh tokens, and is\n",
    "# created automatically when the authorization flow completes for the first\n",
    "# time.\n",
    "if os.path.exists('token.pickle'):\n",
    "    with open('token.pickle', 'rb') as token:\n",
    "        creds = pickle.load(token)\n",
    "# If there are no (valid) credentials available, let the user log in.\n",
    "if not creds or not creds.valid:\n",
    "    if creds and creds.expired and creds.refresh_token:\n",
    "        creds.refresh(Request())\n",
    "    else:\n",
    "        flow = InstalledAppFlow.from_client_secrets_file(\n",
    "            'credentials.json', SCOPES)\n",
    "        creds = flow.run_local_server(port=6666)\n",
    "    # Save the credentials for the next run\n",
    "    with open('token.pickle', 'wb') as token:\n",
    "        pickle.dump(creds, token)\n",
    "\n",
    "doc_service = build('docs', 'v1', credentials=creds)\n",
    "drive_service = build('drive', 'v3', credentials=creds)\n",
    "\n",
    "documents = doc_service.documents()"
   ]
  },
  {
   "cell_type": "code",
   "execution_count": 30,
   "metadata": {},
   "outputs": [],
   "source": [
    "q = \"\"\"\n",
    "mimeType='application/vnd.google-apps.folder'\n",
    "and name='Covid-19 risk assessments'\n",
    "\"\"\"\n",
    "folder = drive_service.files().list(q=q).execute()\n",
    "folder_id = folder['files'][0]['id']"
   ]
  },
  {
   "cell_type": "code",
   "execution_count": 31,
   "metadata": {},
   "outputs": [],
   "source": [
    "q = '\"%s\" in parents' % folder_id\n",
    "children = drive_service.files().list(q=q).execute()\n",
    "\n",
    "if children.get('nextPageToken') or children.get('incompleteSearch'):\n",
    "    raise ValueError(\"I've lost some of the files!\")\n",
    "\n",
    "file_ids = {child['name']: child['id'] for child in children['files']}\n"
   ]
  },
  {
   "cell_type": "code",
   "execution_count": 32,
   "metadata": {},
   "outputs": [],
   "source": [
    "files = {k: documents.get(documentId=v).execute() for k, v in file_ids.items()}"
   ]
  },
  {
   "cell_type": "code",
   "execution_count": 33,
   "metadata": {},
   "outputs": [],
   "source": [
    "def read_paragraph_element(element):\n",
    "    \"\"\"Returns the text in the given ParagraphElement.\n",
    "\n",
    "        Args:\n",
    "            element: a ParagraphElement from a Google Doc.\n",
    "    \"\"\"\n",
    "    text_run = element.get('textRun')\n",
    "    if not text_run:\n",
    "        return ''\n",
    "    return text_run.get('content')\n",
    "\n",
    "\n",
    "def read_structural_elements(elements):\n",
    "    \"\"\"Recurses through a list of Structural Elements to read a document's text where text may be\n",
    "        in nested elements.\n",
    "\n",
    "        Args:\n",
    "            elements: a list of Structural Elements.\n",
    "    \"\"\"\n",
    "    text = ''\n",
    "    for value in elements:\n",
    "        if 'paragraph' in value:\n",
    "            elements = value.get('paragraph').get('elements')\n",
    "            for elem in elements:\n",
    "                text += read_paragraph_element(elem)\n",
    "        elif 'table' in value:\n",
    "            # The text in table cells are in nested Structural Elements and tables may be\n",
    "            # nested.\n",
    "            table = value.get('table')\n",
    "            for row in table.get('tableRows'):\n",
    "                cells = row.get('tableCells')\n",
    "                for cell in cells:\n",
    "                    text += read_structural_elements(cell.get('content'))\n",
    "        elif 'tableOfContents' in value:\n",
    "            # The text in the TOC is also in a Structural Element.\n",
    "            toc = value.get('tableOfContents')\n",
    "            text += read_structural_elements(toc.get('content'))\n",
    "    return html.escape(text, quote=False).split('\\n')"
   ]
  },
  {
   "cell_type": "code",
   "execution_count": 38,
   "metadata": {},
   "outputs": [],
   "source": [
    "text = {k: read_structural_elements(v['body']['content']) for k, v in files.items()}\n",
    "for name, entries in text.items():\n",
    "    with open(name, 'w') as fd:\n",
    "        fd.writelines(x + os.linesep for x in entries)"
   ]
  },
  {
   "cell_type": "code",
   "execution_count": 35,
   "metadata": {},
   "outputs": [],
   "source": [
    "all_entries = set()\n",
    "for name, entries in text.items():\n",
    "    all_entries.update([x for x in entries if name not in x])\n",
    "for name, entries in text.items():\n",
    "    missing = all_entries.difference(entries)\n",
    "    if missing:\n",
    "        print('%s is missing:' % name)\n",
    "        for x in missing:\n",
    "            print(x)\n",
    "        print()"
   ]
  },
  {
   "cell_type": "code",
   "execution_count": 36,
   "metadata": {},
   "outputs": [
    {
     "data": {
      "text/html": [
       "\n",
       "    <table class=\"diff\" id=\"difflib_chg_to2__top\"\n",
       "           cellspacing=\"0\" cellpadding=\"0\" rules=\"groups\" >\n",
       "        <colgroup></colgroup> <colgroup></colgroup> <colgroup></colgroup>\n",
       "        <colgroup></colgroup> <colgroup></colgroup> <colgroup></colgroup>\n",
       "        \n",
       "        <tbody>\n",
       "            <tr><td class=\"diff_next\"><a href=\"#difflib_chg_to2__0\">f</a></td><td class=\"diff_header\" id=\"from2_1\">1</td><td nowrap=\"nowrap\">Within&nbsp;bubble,&nbsp;at&nbsp;home</td><td class=\"diff_next\"><a href=\"#difflib_chg_to2__0\">f</a></td><td class=\"diff_header\" id=\"to2_1\">1</td><td nowrap=\"nowrap\">Within&nbsp;bubble,&nbsp;at&nbsp;home</td></tr>\n",
       "            <tr><td class=\"diff_next\"></td><td class=\"diff_header\" id=\"from2_2\">2</td><td nowrap=\"nowrap\">Within&nbsp;bubble,&nbsp;outside</td><td class=\"diff_next\"></td><td class=\"diff_header\" id=\"to2_2\">2</td><td nowrap=\"nowrap\">Within&nbsp;bubble,&nbsp;outside</td></tr>\n",
       "            <tr><td class=\"diff_next\"></td><td class=\"diff_header\" id=\"from2_3\">3</td><td nowrap=\"nowrap\">Takeaway&nbsp;(within&nbsp;bubble,&nbsp;at&nbsp;home)</td><td class=\"diff_next\"></td><td class=\"diff_header\" id=\"to2_3\">3</td><td nowrap=\"nowrap\">Takeaway&nbsp;(within&nbsp;bubble,&nbsp;at&nbsp;home)</td></tr>\n",
       "            <tr><td class=\"diff_next\"></td><td class=\"diff_header\" id=\"from2_4\">4</td><td nowrap=\"nowrap\">Takeaway&nbsp;(within&nbsp;bubble,&nbsp;outside&nbsp;in&nbsp;a&nbsp;public&nbsp;park)</td><td class=\"diff_next\"></td><td class=\"diff_header\" id=\"to2_4\">4</td><td nowrap=\"nowrap\">Takeaway&nbsp;(within&nbsp;bubble,&nbsp;outside&nbsp;in&nbsp;a&nbsp;public&nbsp;park)</td></tr>\n",
       "            <tr><td class=\"diff_next\"></td><td class=\"diff_header\" id=\"from2_5\">5</td><td nowrap=\"nowrap\">Picnic,&nbsp;own&nbsp;food&nbsp;(without&nbsp;bubble,&nbsp;outside&nbsp;in&nbsp;a&nbsp;private&nbsp;garden)</td><td class=\"diff_next\"></td><td class=\"diff_header\" id=\"to2_5\">5</td><td nowrap=\"nowrap\">Picnic,&nbsp;own&nbsp;food&nbsp;(without&nbsp;bubble,&nbsp;outside&nbsp;in&nbsp;a&nbsp;private&nbsp;garden)</td></tr>\n",
       "            <tr><td class=\"diff_next\"></td><td class=\"diff_header\" id=\"from2_6\">6</td><td nowrap=\"nowrap\">Picnic,&nbsp;own&nbsp;food&nbsp;(without&nbsp;bubble,&nbsp;outside&nbsp;in&nbsp;a&nbsp;public&nbsp;park)</td><td class=\"diff_next\"></td><td class=\"diff_header\" id=\"to2_6\">6</td><td nowrap=\"nowrap\">Picnic,&nbsp;own&nbsp;food&nbsp;(without&nbsp;bubble,&nbsp;outside&nbsp;in&nbsp;a&nbsp;public&nbsp;park)</td></tr>\n",
       "            <tr><td class=\"diff_next\" id=\"difflib_chg_to2__0\"></td><td class=\"diff_header\" id=\"from2_7\">7</td><td nowrap=\"nowrap\">Takeaway&nbsp;(without&nbsp;bubble,&nbsp;outside&nbsp;in&nbsp;a&nbsp;private&nbsp;garden)</td><td class=\"diff_next\"></td><td class=\"diff_header\" id=\"to2_7\">7</td><td nowrap=\"nowrap\">Takeaway&nbsp;(without&nbsp;bubble,&nbsp;outside&nbsp;in&nbsp;a&nbsp;private&nbsp;garden)</td></tr>\n",
       "            <tr><td class=\"diff_next\"></td><td class=\"diff_header\" id=\"from2_8\">8</td><td nowrap=\"nowrap\">Takeaway&nbsp;(without&nbsp;bubble,&nbsp;outside&nbsp;in&nbsp;a&nbsp;public&nbsp;park)</td><td class=\"diff_next\"></td><td class=\"diff_header\" id=\"to2_8\">8</td><td nowrap=\"nowrap\">Takeaway&nbsp;(without&nbsp;bubble,&nbsp;outside&nbsp;in&nbsp;a&nbsp;public&nbsp;park)</td></tr>\n",
       "            <tr><td class=\"diff_next\"></td><td class=\"diff_header\" id=\"from2_9\">9</td><td nowrap=\"nowrap\">Using&nbsp;loo&nbsp;or&nbsp;walking&nbsp;through&nbsp;at&nbsp;non-bubble&nbsp;home,&nbsp;masked</td><td class=\"diff_next\"></td><td class=\"diff_header\" id=\"to2_9\">9</td><td nowrap=\"nowrap\">Using&nbsp;loo&nbsp;or&nbsp;walking&nbsp;through&nbsp;at&nbsp;non-bubble&nbsp;home,&nbsp;masked</td></tr>\n",
       "            <tr><td class=\"diff_next\"></td><td class=\"diff_header\" id=\"from2_10\">10</td><td nowrap=\"nowrap\">Using&nbsp;public&nbsp;loos</td><td class=\"diff_next\"></td><td class=\"diff_header\" id=\"to2_10\">10</td><td nowrap=\"nowrap\">Using&nbsp;public&nbsp;loos</td></tr>\n",
       "            <tr><td class=\"diff_next\"></td><td class=\"diff_header\" id=\"from2_11\">11</td><td nowrap=\"nowrap\">Walking&nbsp;day&nbsp;(within&nbsp;bubble,&nbsp;with&nbsp;car&nbsp;rental)</td><td class=\"diff_next\"></td><td class=\"diff_header\" id=\"to2_11\">11</td><td nowrap=\"nowrap\">Walking&nbsp;day&nbsp;(within&nbsp;bubble,&nbsp;with&nbsp;car&nbsp;rental)</td></tr>\n",
       "            <tr><td class=\"diff_next\"><a href=\"#difflib_chg_to2__1\">n</a></td><td class=\"diff_header\"></td><td nowrap=\"nowrap\"></td><td class=\"diff_next\"><a href=\"#difflib_chg_to2__1\">n</a></td><td class=\"diff_header\" id=\"to2_12\">12</td><td nowrap=\"nowrap\"><span class=\"diff_add\">Having&nbsp;a&nbsp;masked&nbsp;cleaner&nbsp;in&nbsp;a&nbsp;bubble&nbsp;home</span></td></tr>\n",
       "            <tr><td class=\"diff_next\"></td><td class=\"diff_header\"></td><td nowrap=\"nowrap\"></td><td class=\"diff_next\"></td><td class=\"diff_header\" id=\"to2_13\">13</td><td nowrap=\"nowrap\"><span class=\"diff_add\">Staying&nbsp;in&nbsp;a&nbsp;self-catering&nbsp;flat</span></td></tr>\n",
       "            <tr><td class=\"diff_next\"></td><td class=\"diff_header\" id=\"from2_12\">12</td><td nowrap=\"nowrap\">Drinking&nbsp;at&nbsp;a&nbsp;pub&nbsp;(within&nbsp;bubble,&nbsp;outside,&nbsp;masked&nbsp;staff,&nbsp;distanced&nbsp;tables)</td><td class=\"diff_next\"></td><td class=\"diff_header\" id=\"to2_14\">14</td><td nowrap=\"nowrap\">Drinking&nbsp;at&nbsp;a&nbsp;pub&nbsp;(within&nbsp;bubble,&nbsp;outside,&nbsp;masked&nbsp;staff,&nbsp;distanced&nbsp;tables)</td></tr>\n",
       "            <tr><td class=\"diff_next\"></td><td class=\"diff_header\" id=\"from2_13\">13</td><td nowrap=\"nowrap\">Drinking&nbsp;at&nbsp;a&nbsp;pub&nbsp;(without&nbsp;bubble,&nbsp;outside,&nbsp;masked&nbsp;staff,&nbsp;distanced&nbsp;tables)</td><td class=\"diff_next\"></td><td class=\"diff_header\" id=\"to2_15\">15</td><td nowrap=\"nowrap\">Drinking&nbsp;at&nbsp;a&nbsp;pub&nbsp;(without&nbsp;bubble,&nbsp;outside,&nbsp;masked&nbsp;staff,&nbsp;distanced&nbsp;tables)</td></tr>\n",
       "            <tr><td class=\"diff_next\" id=\"difflib_chg_to2__1\"></td><td class=\"diff_header\" id=\"from2_14\">14</td><td nowrap=\"nowrap\">Eating&nbsp;at&nbsp;a&nbsp;restaurant&nbsp;(without&nbsp;bubble,&nbsp;outside,&nbsp;masked&nbsp;staff,&nbsp;distanced&nbsp;tables)</td><td class=\"diff_next\"></td><td class=\"diff_header\" id=\"to2_16\">16</td><td nowrap=\"nowrap\">Eating&nbsp;at&nbsp;a&nbsp;restaurant&nbsp;(without&nbsp;bubble,&nbsp;outside,&nbsp;masked&nbsp;staff,&nbsp;distanced&nbsp;tables)</td></tr>\n",
       "            <tr><td class=\"diff_next\"></td><td class=\"diff_header\" id=\"from2_15\">15</td><td nowrap=\"nowrap\">Eating&nbsp;at&nbsp;a&nbsp;restaurant&nbsp;(within&nbsp;bubble,&nbsp;inside,&nbsp;masked&nbsp;staff,&nbsp;distanced&nbsp;tables)</td><td class=\"diff_next\"></td><td class=\"diff_header\" id=\"to2_17\">17</td><td nowrap=\"nowrap\">Eating&nbsp;at&nbsp;a&nbsp;restaurant&nbsp;(within&nbsp;bubble,&nbsp;inside,&nbsp;masked&nbsp;staff,&nbsp;distanced&nbsp;tables)</td></tr>\n",
       "            <tr><td class=\"diff_next\"></td><td class=\"diff_header\" id=\"from2_16\">16</td><td nowrap=\"nowrap\">Working&nbsp;in&nbsp;an&nbsp;office&nbsp;(masked&nbsp;when&nbsp;not&nbsp;at&nbsp;desk,&nbsp;appropriately&nbsp;socially&nbsp;distant,&nbsp;own&nbsp;food)</td><td class=\"diff_next\"></td><td class=\"diff_header\" id=\"to2_18\">18</td><td nowrap=\"nowrap\">Working&nbsp;in&nbsp;an&nbsp;office&nbsp;(masked&nbsp;when&nbsp;not&nbsp;at&nbsp;desk,&nbsp;appropriately&nbsp;socially&nbsp;distant,&nbsp;own&nbsp;food)</td></tr>\n",
       "            <tr><td class=\"diff_next\"></td><td class=\"diff_header\" id=\"from2_17\">17</td><td nowrap=\"nowrap\">Large&nbsp;(6+)&nbsp;park&nbsp;gathering/picnic,&nbsp;masked,&nbsp;appropriately&nbsp;socially&nbsp;distant,&nbsp;no&nbsp;food&nbsp;sharing,&nbsp;eating&nbsp;away&nbsp;from&nbsp;group</td><td class=\"diff_next\"></td><td class=\"diff_header\" id=\"to2_19\">19</td><td nowrap=\"nowrap\">Large&nbsp;(6+)&nbsp;park&nbsp;gathering/picnic,&nbsp;masked,&nbsp;appropriately&nbsp;socially&nbsp;distant,&nbsp;no&nbsp;food&nbsp;sharing,&nbsp;eating&nbsp;away&nbsp;from&nbsp;group</td></tr>\n",
       "            <tr><td class=\"diff_next\"></td><td class=\"diff_header\" id=\"from2_18\">18</td><td nowrap=\"nowrap\">Large&nbsp;(6+)&nbsp;park&nbsp;gathering/picnic,&nbsp;masked&nbsp;unless&nbsp;eating,&nbsp;appropriately&nbsp;socially&nbsp;distant,&nbsp;no&nbsp;food&nbsp;sharing,&nbsp;eating&nbsp;at&nbsp;a&nbsp;socially&nbsp;distant&nbsp;table/blanket</td><td class=\"diff_next\"></td><td class=\"diff_header\" id=\"to2_20\">20</td><td nowrap=\"nowrap\">Large&nbsp;(6+)&nbsp;park&nbsp;gathering/picnic,&nbsp;masked&nbsp;unless&nbsp;eating,&nbsp;appropriately&nbsp;socially&nbsp;distant,&nbsp;no&nbsp;food&nbsp;sharing,&nbsp;eating&nbsp;at&nbsp;a&nbsp;socially&nbsp;distant&nbsp;table/blanket</td></tr>\n",
       "            <tr><td class=\"diff_next\" id=\"difflib_chg_to2__2\"><a href=\"#difflib_chg_to2__2\">n</a></td><td class=\"diff_header\" id=\"from2_19\">19</td><td nowrap=\"nowrap\"><span class=\"diff_sub\">Large&nbsp;(6+)&nbsp;park&nbsp;gathering/picnic,&nbsp;unmasked,&nbsp;appropriately&nbsp;socially&nbsp;distant,&nbsp;no&nbsp;food&nbsp;sharing</span></td><td class=\"diff_next\"><a href=\"#difflib_chg_to2__2\">n</a></td><td class=\"diff_header\"></td><td nowrap=\"nowrap\"></td></tr>\n",
       "            <tr><td class=\"diff_next\"></td><td class=\"diff_header\" id=\"from2_20\">20</td><td nowrap=\"nowrap\"><span class=\"diff_sub\">Staying&nbsp;in&nbsp;a&nbsp;self-catering&nbsp;flat</span></td><td class=\"diff_next\"></td><td class=\"diff_header\"></td><td nowrap=\"nowrap\"></td></tr>\n",
       "            <tr><td class=\"diff_next\"></td><td class=\"diff_header\" id=\"from2_21\">21</td><td nowrap=\"nowrap\">Shopping&nbsp;for&nbsp;non-essentials&nbsp;(masked,&nbsp;masked&nbsp;staff,&nbsp;appropriately&nbsp;socially&nbsp;distant&nbsp;from&nbsp;other&nbsp;shoppers)</td><td class=\"diff_next\"></td><td class=\"diff_header\" id=\"to2_21\">21</td><td nowrap=\"nowrap\">Shopping&nbsp;for&nbsp;non-essentials&nbsp;(masked,&nbsp;masked&nbsp;staff,&nbsp;appropriately&nbsp;socially&nbsp;distant&nbsp;from&nbsp;other&nbsp;shoppers)</td></tr>\n",
       "            <tr><td class=\"diff_next\" id=\"difflib_chg_to2__3\"></td><td class=\"diff_header\" id=\"from2_22\">22</td><td nowrap=\"nowrap\">Swimming&nbsp;(Outdoors,&nbsp;socially&nbsp;distancing&nbsp;possible)</td><td class=\"diff_next\"></td><td class=\"diff_header\" id=\"to2_22\">22</td><td nowrap=\"nowrap\">Swimming&nbsp;(Outdoors,&nbsp;socially&nbsp;distancing&nbsp;possible)</td></tr>\n",
       "            <tr><td class=\"diff_next\"></td><td class=\"diff_header\" id=\"from2_23\">23</td><td nowrap=\"nowrap\">Children&nbsp;at&nbsp;school</td><td class=\"diff_next\"></td><td class=\"diff_header\" id=\"to2_23\">23</td><td nowrap=\"nowrap\">Children&nbsp;at&nbsp;school</td></tr>\n",
       "            <tr><td class=\"diff_next\"><a href=\"#difflib_chg_to2__3\">n</a></td><td class=\"diff_header\"></td><td nowrap=\"nowrap\"></td><td class=\"diff_next\"><a href=\"#difflib_chg_to2__3\">n</a></td><td class=\"diff_header\" id=\"to2_24\">24</td><td nowrap=\"nowrap\"><span class=\"diff_add\">Chaundra's&nbsp;Line&nbsp;-&nbsp;22&nbsp;Jul&nbsp;2020</span></td></tr>\n",
       "            <tr><td class=\"diff_next\"></td><td class=\"diff_header\" id=\"from2_24\">24</td><td nowrap=\"nowrap\">Routine&nbsp;healthcare&nbsp;in&nbsp;a&nbsp;GP&nbsp;surgery&nbsp;(masked,&nbsp;socially&nbsp;distant,&nbsp;sanitised,&nbsp;walk&nbsp;through)</td><td class=\"diff_next\"></td><td class=\"diff_header\" id=\"to2_25\">25</td><td nowrap=\"nowrap\">Routine&nbsp;healthcare&nbsp;in&nbsp;a&nbsp;GP&nbsp;surgery&nbsp;(masked,&nbsp;socially&nbsp;distant,&nbsp;sanitised,&nbsp;walk&nbsp;through)</td></tr>\n",
       "            <tr><td class=\"diff_next\"></td><td class=\"diff_header\" id=\"from2_25\">25</td><td nowrap=\"nowrap\">Staying&nbsp;overnight&nbsp;in&nbsp;a&nbsp;hotel,&nbsp;staff&nbsp;masked,&nbsp;appropriate&nbsp;hygiene</td><td class=\"diff_next\"></td><td class=\"diff_header\" id=\"to2_26\">26</td><td nowrap=\"nowrap\">Staying&nbsp;overnight&nbsp;in&nbsp;a&nbsp;hotel,&nbsp;staff&nbsp;masked,&nbsp;appropriate&nbsp;hygiene</td></tr>\n",
       "            <tr><td class=\"diff_next\"><a href=\"#difflib_chg_to2__top\">t</a></td><td class=\"diff_header\" id=\"from2_26\">26</td><td nowrap=\"nowrap\"><span class=\"diff_sub\">Drake's&nbsp;Line&nbsp;-&nbsp;22&nbsp;Jul&nbsp;2020</span></td><td class=\"diff_next\"><a href=\"#difflib_chg_to2__top\">t</a></td><td class=\"diff_header\" id=\"to2_27\">27</td><td nowrap=\"nowrap\"><span class=\"diff_add\">Large&nbsp;(6+)&nbsp;park&nbsp;gathering/picnic,&nbsp;unmasked,&nbsp;appropriately&nbsp;socially&nbsp;distant,&nbsp;no&nbsp;food&nbsp;sharing</span></td></tr>\n",
       "            <tr><td class=\"diff_next\"></td><td class=\"diff_header\" id=\"from2_27\">27</td><td nowrap=\"nowrap\"><span class=\"diff_sub\">Having&nbsp;a&nbsp;masked&nbsp;cleaner&nbsp;in&nbsp;a&nbsp;bubble&nbsp;home</span></td><td class=\"diff_next\"></td><td class=\"diff_header\"></td><td nowrap=\"nowrap\"></td></tr>\n",
       "            <tr><td class=\"diff_next\"></td><td class=\"diff_header\" id=\"from2_28\">28</td><td nowrap=\"nowrap\">Any&nbsp;other&nbsp;large&nbsp;social&nbsp;gathering</td><td class=\"diff_next\"></td><td class=\"diff_header\" id=\"to2_28\">28</td><td nowrap=\"nowrap\">Any&nbsp;other&nbsp;large&nbsp;social&nbsp;gathering</td></tr>\n",
       "            <tr><td class=\"diff_next\"></td><td class=\"diff_header\" id=\"from2_29\">29</td><td nowrap=\"nowrap\">Without&nbsp;bubble,&nbsp;outside&nbsp;in&nbsp;a&nbsp;private&nbsp;garden,&nbsp;sharing&nbsp;food</td><td class=\"diff_next\"></td><td class=\"diff_header\" id=\"to2_29\">29</td><td nowrap=\"nowrap\">Without&nbsp;bubble,&nbsp;outside&nbsp;in&nbsp;a&nbsp;private&nbsp;garden,&nbsp;sharing&nbsp;food</td></tr>\n",
       "            <tr><td class=\"diff_next\"></td><td class=\"diff_header\" id=\"from2_30\">30</td><td nowrap=\"nowrap\">Without&nbsp;bubble&nbsp;visits&nbsp;(extended)&nbsp;in&nbsp;bubble&nbsp;home</td><td class=\"diff_next\"></td><td class=\"diff_header\" id=\"to2_30\">30</td><td nowrap=\"nowrap\">Without&nbsp;bubble&nbsp;visits&nbsp;(extended)&nbsp;in&nbsp;bubble&nbsp;home</td></tr>\n",
       "            <tr><td class=\"diff_next\"></td><td class=\"diff_header\" id=\"from2_31\">31</td><td nowrap=\"nowrap\">Drinking&nbsp;at&nbsp;a&nbsp;pub&nbsp;or&nbsp;eating&nbsp;at&nbsp;a&nbsp;restaurant,&nbsp;all&nbsp;other&nbsp;categories</td><td class=\"diff_next\"></td><td class=\"diff_header\" id=\"to2_31\">31</td><td nowrap=\"nowrap\">Drinking&nbsp;at&nbsp;a&nbsp;pub&nbsp;or&nbsp;eating&nbsp;at&nbsp;a&nbsp;restaurant,&nbsp;all&nbsp;other&nbsp;categories</td></tr>\n",
       "            <tr><td class=\"diff_next\"></td><td class=\"diff_header\" id=\"from2_32\">32</td><td nowrap=\"nowrap\">Routine&nbsp;healthcare&nbsp;in&nbsp;a&nbsp;GP&nbsp;surgery&nbsp;(long&nbsp;wait,&nbsp;unmasked&nbsp;patients&nbsp;or&nbsp;staff,&nbsp;etc.)</td><td class=\"diff_next\"></td><td class=\"diff_header\" id=\"to2_32\">32</td><td nowrap=\"nowrap\">Routine&nbsp;healthcare&nbsp;in&nbsp;a&nbsp;GP&nbsp;surgery&nbsp;(long&nbsp;wait,&nbsp;unmasked&nbsp;patients&nbsp;or&nbsp;staff,&nbsp;etc.)</td></tr>\n",
       "            <tr><td class=\"diff_next\"></td><td class=\"diff_header\" id=\"from2_33\">33</td><td nowrap=\"nowrap\">Eating&nbsp;or&nbsp;socialising&nbsp;Inside&nbsp;non-bubble&nbsp;home</td><td class=\"diff_next\"></td><td class=\"diff_header\" id=\"to2_33\">33</td><td nowrap=\"nowrap\">Eating&nbsp;or&nbsp;socialising&nbsp;Inside&nbsp;non-bubble&nbsp;home</td></tr>\n",
       "            <tr><td class=\"diff_next\"></td><td class=\"diff_header\" id=\"from2_34\">34</td><td nowrap=\"nowrap\">Using&nbsp;public&nbsp;transport,&nbsp;including&nbsp;international&nbsp;travel</td><td class=\"diff_next\"></td><td class=\"diff_header\" id=\"to2_34\">34</td><td nowrap=\"nowrap\">Using&nbsp;public&nbsp;transport,&nbsp;including&nbsp;international&nbsp;travel</td></tr>\n",
       "            <tr><td class=\"diff_next\"></td><td class=\"diff_header\" id=\"from2_35\">35</td><td nowrap=\"nowrap\">Swimming&nbsp;(Indoors)&nbsp;</td><td class=\"diff_next\"></td><td class=\"diff_header\" id=\"to2_35\">35</td><td nowrap=\"nowrap\">Swimming&nbsp;(Indoors)&nbsp;</td></tr>\n",
       "            <tr><td class=\"diff_next\"></td><td class=\"diff_header\" id=\"from2_36\">36</td><td nowrap=\"nowrap\">Swimming&nbsp;(Outdoors&nbsp;where&nbsp;socially&nbsp;distancing&nbsp;not&nbsp;possible)</td><td class=\"diff_next\"></td><td class=\"diff_header\" id=\"to2_36\">36</td><td nowrap=\"nowrap\">Swimming&nbsp;(Outdoors&nbsp;where&nbsp;socially&nbsp;distancing&nbsp;not&nbsp;possible)</td></tr>\n",
       "            <tr><td class=\"diff_next\"></td><td class=\"diff_header\" id=\"from2_37\">37</td><td nowrap=\"nowrap\">Gym</td><td class=\"diff_next\"></td><td class=\"diff_header\" id=\"to2_37\">37</td><td nowrap=\"nowrap\">Gym</td></tr>\n",
       "            <tr><td class=\"diff_next\"></td><td class=\"diff_header\" id=\"from2_38\">38</td><td nowrap=\"nowrap\">Healthcare&nbsp;in&nbsp;a&nbsp;hospital&nbsp;environment</td><td class=\"diff_next\"></td><td class=\"diff_header\" id=\"to2_38\">38</td><td nowrap=\"nowrap\">Healthcare&nbsp;in&nbsp;a&nbsp;hospital&nbsp;environment</td></tr>\n",
       "            <tr><td class=\"diff_next\"></td><td class=\"diff_header\" id=\"from2_39\">39</td><td nowrap=\"nowrap\">Work&nbsp;in&nbsp;hospital,&nbsp;GP&nbsp;surgery,&nbsp;any&nbsp;place&nbsp;where&nbsp;medical&nbsp;care&nbsp;is&nbsp;provided</td><td class=\"diff_next\"></td><td class=\"diff_header\" id=\"to2_39\">39</td><td nowrap=\"nowrap\">Work&nbsp;in&nbsp;hospital,&nbsp;GP&nbsp;surgery,&nbsp;any&nbsp;place&nbsp;where&nbsp;medical&nbsp;care&nbsp;is&nbsp;provided</td></tr>\n",
       "            <tr><td class=\"diff_next\"></td><td class=\"diff_header\" id=\"from2_40\">40</td><td nowrap=\"nowrap\"></td><td class=\"diff_next\"></td><td class=\"diff_header\" id=\"to2_40\">40</td><td nowrap=\"nowrap\"></td></tr>\n",
       "        </tbody>\n",
       "    </table>"
      ],
      "text/plain": [
       "<IPython.core.display.HTML object>"
      ]
     },
     "metadata": {},
     "output_type": "display_data"
    }
   ],
   "source": [
    "differ = difflib.HtmlDiff(tabsize=4)\n",
    "diff = differ.make_table(text['Drake'], text['Chaundra'])\n",
    "display(HTML(diff))"
   ]
  },
  {
   "cell_type": "code",
   "execution_count": null,
   "metadata": {},
   "outputs": [],
   "source": []
  },
  {
   "cell_type": "code",
   "execution_count": null,
   "metadata": {},
   "outputs": [],
   "source": []
  }
 ],
 "metadata": {
  "kernelspec": {
   "display_name": "covid-19",
   "language": "python",
   "name": "covid-19"
  },
  "language_info": {
   "codemirror_mode": {
    "name": "ipython",
    "version": 3
   },
   "file_extension": ".py",
   "mimetype": "text/x-python",
   "name": "python",
   "nbconvert_exporter": "python",
   "pygments_lexer": "ipython3",
   "version": "3.7.5"
  }
 },
 "nbformat": 4,
 "nbformat_minor": 4
}
