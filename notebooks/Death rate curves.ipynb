{
 "cells": [
  {
   "cell_type": "code",
   "execution_count": null,
   "metadata": {},
   "outputs": [],
   "source": [
    "%matplotlib inline\n",
    "import matplotlib as mpl\n",
    "import matplotlib.pyplot as plt \n",
    "import numpy as np\n",
    "import os\n",
    "import pandas as pd\n",
    "\n",
    "plt.rcParams['figure.figsize'] = (10.0, 8.0)"
   ]
  },
  {
   "cell_type": "code",
   "execution_count": null,
   "metadata": {},
   "outputs": [],
   "source": [
    "def load(filename):\n",
    "    x = pd.read_csv(os.path.join('../data/jhu/csse_covid_19_data', filename))\n",
    "    x = x.drop(columns=['Lat', 'Long']).set_index(['Country/Region', 'Province/State']).T\n",
    "    x.index = pd.to_datetime(x.index, dayfirst=False)\n",
    "    x.index.name = 'Date'\n",
    "    return x.groupby(axis='columns', level='Country/Region').sum()\n",
    "total_deaths = load('csse_covid_19_time_series/time_series_covid19_deaths_global.csv')"
   ]
  },
  {
   "cell_type": "code",
   "execution_count": null,
   "metadata": {},
   "outputs": [],
   "source": [
    "jhu_codes_file = 'UID_ISO_FIPS_LookUp_Table.csv'\n",
    "jhu_codes = pd.read_csv(os.path.join('../data/jhu/csse_covid_19_data', jhu_codes_file))\n",
    "top_level = jhu_codes['Province_State'].isnull()\n",
    "iso_jhu_map = jhu_codes.loc[top_level, ['iso3','Country_Region']].drop_duplicates()\n",
    "iso_codes_file = 'code_map.csv'\n",
    "iso_code_map = pd.read_csv(os.path.join('../data', iso_codes_file))\n",
    "un_iso_map = iso_code_map[['country-code', 'alpha-3']].drop_duplicates()"
   ]
  },
  {
   "cell_type": "code",
   "execution_count": null,
   "metadata": {},
   "outputs": [],
   "source": [
    "POPULATION_YEAR = '2019'\n",
    "pop_file = os.path.join('../data/un', 'WPP2019_POP_F01_1_TOTAL_POPULATION_BOTH_SEXES.xlsx')\n",
    "pop_df = pd.read_excel(pop_file, skiprows=16, sheet_name='ESTIMATES')\n",
    "pop_by_jhu = (pop_df\n",
    " .merge(un_iso_map, left_on='Country code', right_on='country-code')\n",
    " .merge(iso_jhu_map, left_on='alpha-3', right_on='iso3')\n",
    ").set_index('Country_Region')[POPULATION_YEAR] * 1000 / 100000\n",
    "# UN data is in thousands, convert to deaths per 100k population"
   ]
  },
  {
   "cell_type": "code",
   "execution_count": null,
   "metadata": {},
   "outputs": [],
   "source": [
    "daily_deaths = total_deaths.diff()\n",
    "daily_deaths_avg = daily_deaths.rolling(14, center=True, min_periods=7).mean()"
   ]
  },
  {
   "cell_type": "code",
   "execution_count": null,
   "metadata": {},
   "outputs": [],
   "source": [
    "MIN_DAILY_DEATHS = 100\n",
    "\n",
    "columns = {}\n",
    "for idx, column in daily_deaths_avg.iteritems():\n",
    "    if column.max() < MIN_DAILY_DEATHS:\n",
    "        continue\n",
    "    first_date = column[column >= MIN_DAILY_DEATHS].first_valid_index()\n",
    "    new_col = column.loc[first_date:].reset_index(drop=True)\n",
    "    columns[idx] = new_col\n",
    "#     columns[idx] = column\n",
    "comparable_deaths = pd.DataFrame(columns)\n",
    "comparable_deaths = comparable_deaths.reindex(columns=comparable_deaths.ffill().iloc[-1].sort_values(ascending=False).index)"
   ]
  },
  {
   "cell_type": "code",
   "execution_count": null,
   "metadata": {},
   "outputs": [],
   "source": [
    "comparable_deaths.plot(legend='best', logy=False)\n",
    "plt.ylim((50, plt.ylim()[1]))\n",
    "comparable_deaths.plot(legend='best', logy=True)\n",
    "plt.ylim((50, plt.ylim()[1]))"
   ]
  },
  {
   "cell_type": "code",
   "execution_count": null,
   "metadata": {},
   "outputs": [],
   "source": [
    "comparable_death_fraction = comparable_deaths.divide(pop_by_jhu, axis='columns').dropna(how='all', axis='columns')\n",
    "comparable_death_fraction = comparable_death_fraction.reindex(columns=comparable_death_fraction.ffill().iloc[-1].sort_values(ascending=False).index)\n",
    "comparable_death_fraction.plot(legend='best', logy=False)"
   ]
  },
  {
   "cell_type": "code",
   "execution_count": null,
   "metadata": {},
   "outputs": [],
   "source": []
  }
 ],
 "metadata": {
  "kernelspec": {
   "display_name": "covid-19",
   "language": "python",
   "name": "covid-19"
  },
  "language_info": {
   "codemirror_mode": {
    "name": "ipython",
    "version": 3
   },
   "file_extension": ".py",
   "mimetype": "text/x-python",
   "name": "python",
   "nbconvert_exporter": "python",
   "pygments_lexer": "ipython3",
   "version": "3.7.5"
  }
 },
 "nbformat": 4,
 "nbformat_minor": 4
}
