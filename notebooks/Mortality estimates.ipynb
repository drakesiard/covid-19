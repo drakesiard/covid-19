{
 "cells": [
  {
   "cell_type": "code",
   "execution_count": null,
   "metadata": {},
   "outputs": [],
   "source": [
    "%matplotlib inline\n",
    "import matplotlib as mpl\n",
    "import matplotlib.pyplot as plt \n",
    "import numpy as np\n",
    "import os\n",
    "import pandas as pd\n",
    "\n",
    "plt.rcParams['figure.figsize'] = (10.0, 8.0)"
   ]
  },
  {
   "cell_type": "code",
   "execution_count": null,
   "metadata": {},
   "outputs": [],
   "source": [
    "def load(filename):\n",
    "    x = pd.read_csv(os.path.join('../data/jhu/csse_covid_19_data/', filename))\n",
    "    x = x.drop(columns=['Lat', 'Long']).set_index(['Country/Region', 'Province/State']).T\n",
    "    x.index = pd.to_datetime(x.index, dayfirst=False)\n",
    "    x.index.name = 'Date'\n",
    "    return x.groupby(axis='columns', level='Country/Region').sum()\n",
    "confirmed = load('csse_covid_19_time_series/time_series_covid19_confirmed_global.csv')\n",
    "recovered = load('csse_covid_19_time_series/time_series_covid19_recovered_global.csv')\n",
    "deaths = load('csse_covid_19_time_series/time_series_covid19_deaths_global.csv')"
   ]
  },
  {
   "cell_type": "code",
   "execution_count": null,
   "metadata": {},
   "outputs": [],
   "source": [
    "lower_bound = (deaths.where(deaths > 100) / confirmed).dropna(axis='columns', how='all')\n",
    "lower_bound.plot(legend='best')\n"
   ]
  },
  {
   "cell_type": "code",
   "execution_count": null,
   "metadata": {},
   "outputs": [],
   "source": [
    "upper_bound = (deaths.where(deaths > 100) / recovered).dropna(axis='columns', how='all')\n",
    "upper_bound = np.minimum(upper_bound, 1.0)\n",
    "upper_bound.plot(legend='best')\n"
   ]
  },
  {
   "cell_type": "code",
   "execution_count": null,
   "metadata": {},
   "outputs": [],
   "source": [
    "pd.DataFrame({'lower_bound': lower_bound.iloc[-1],\n",
    "              'upper_bound': upper_bound.iloc[-1]}).sort_values(by='lower_bound', ascending=False)"
   ]
  },
  {
   "cell_type": "code",
   "execution_count": null,
   "metadata": {},
   "outputs": [],
   "source": [
    "for idx, col in lower_bound.iteritems():\n",
    "    plt.figure(str(idx))\n",
    "    plt.plot(pd.DataFrame({'lower':col, 'upper':upper_bound.loc[:,idx]}))\n",
    "    plt.title(idx)\n",
    "    plt.ylim(0, 0.15)"
   ]
  },
  {
   "cell_type": "code",
   "execution_count": null,
   "metadata": {},
   "outputs": [],
   "source": [
    "all_deaths = deaths.sum(axis='columns')\n",
    "all_deaths = all_deaths.where(all_deaths > 100)\n",
    "all_confirmed = confirmed.sum(axis='columns')\n",
    "all_recovered = recovered.sum(axis='columns')\n",
    "all_recovered = all_recovered.where(all_recovered > 100)\n",
    "pd.DataFrame({'lower_bound': all_deaths / all_confirmed,\n",
    "              'upper_bounds': all_deaths / all_recovered}).plot()\n",
    "\n"
   ]
  },
  {
   "cell_type": "code",
   "execution_count": null,
   "metadata": {},
   "outputs": [],
   "source": []
  }
 ],
 "metadata": {
  "kernelspec": {
   "display_name": "covid-19",
   "language": "python",
   "name": "covid-19"
  },
  "language_info": {
   "codemirror_mode": {
    "name": "ipython",
    "version": 3
   },
   "file_extension": ".py",
   "mimetype": "text/x-python",
   "name": "python",
   "nbconvert_exporter": "python",
   "pygments_lexer": "ipython3",
   "version": "3.7.5"
  }
 },
 "nbformat": 4,
 "nbformat_minor": 4
}
